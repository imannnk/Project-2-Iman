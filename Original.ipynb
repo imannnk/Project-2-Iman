{
 "cells": [
  {
   "cell_type": "code",
   "execution_count": 1,
   "metadata": {},
   "outputs": [
    {
     "data": {
      "text/html": [
       "<div>\n",
       "<style scoped>\n",
       "    .dataframe tbody tr th:only-of-type {\n",
       "        vertical-align: middle;\n",
       "    }\n",
       "\n",
       "    .dataframe tbody tr th {\n",
       "        vertical-align: top;\n",
       "    }\n",
       "\n",
       "    .dataframe thead th {\n",
       "        text-align: right;\n",
       "    }\n",
       "</style>\n",
       "<table border=\"1\" class=\"dataframe\">\n",
       "  <thead>\n",
       "    <tr style=\"text-align: right;\">\n",
       "      <th></th>\n",
       "      <th>sqft_living</th>\n",
       "    </tr>\n",
       "  </thead>\n",
       "  <tbody>\n",
       "    <tr>\n",
       "      <th>5988</th>\n",
       "      <td>610</td>\n",
       "    </tr>\n",
       "    <tr>\n",
       "      <th>12558</th>\n",
       "      <td>770</td>\n",
       "    </tr>\n",
       "    <tr>\n",
       "      <th>12933</th>\n",
       "      <td>1300</td>\n",
       "    </tr>\n",
       "    <tr>\n",
       "      <th>18744</th>\n",
       "      <td>1870</td>\n",
       "    </tr>\n",
       "    <tr>\n",
       "      <th>15484</th>\n",
       "      <td>1240</td>\n",
       "    </tr>\n",
       "    <tr>\n",
       "      <th>...</th>\n",
       "      <td>...</td>\n",
       "    </tr>\n",
       "    <tr>\n",
       "      <th>8699</th>\n",
       "      <td>1000</td>\n",
       "    </tr>\n",
       "    <tr>\n",
       "      <th>8253</th>\n",
       "      <td>1470</td>\n",
       "    </tr>\n",
       "    <tr>\n",
       "      <th>10734</th>\n",
       "      <td>950</td>\n",
       "    </tr>\n",
       "    <tr>\n",
       "      <th>10201</th>\n",
       "      <td>850</td>\n",
       "    </tr>\n",
       "    <tr>\n",
       "      <th>14664</th>\n",
       "      <td>1020</td>\n",
       "    </tr>\n",
       "  </tbody>\n",
       "</table>\n",
       "<p>777 rows × 1 columns</p>\n",
       "</div>"
      ],
      "text/plain": [
       "       sqft_living\n",
       "5988           610\n",
       "12558          770\n",
       "12933         1300\n",
       "18744         1870\n",
       "15484         1240\n",
       "...            ...\n",
       "8699          1000\n",
       "8253          1470\n",
       "10734          950\n",
       "10201          850\n",
       "14664         1020\n",
       "\n",
       "[777 rows x 1 columns]"
      ]
     },
     "execution_count": 1,
     "metadata": {},
     "output_type": "execute_result"
    }
   ],
   "source": [
    "import pandas as pd \n",
    "import numpy as np\n",
    "\n",
    "import scipy.stats as stats\n",
    "import seaborn as sns\n",
    "import statsmodels.api as sm\n",
    "import matplotlib.pyplot as plt\n",
    "\n",
    "from statsmodels.formula.api import ols\n",
    "from sklearn.model_selection import train_test_split\n",
    "from sklearn.linear_model import LinearRegression\n",
    "\n",
    "#from Data import kc_house_data.csv\n",
    "\n",
    "house = pd.read_csv('Data/kc_house_data.csv')\n",
    "\n",
    "month = []\n",
    "year = []\n",
    "for date in house.date:\n",
    "    month.append(int(date.split('/')[0]))\n",
    "    year.append(int (date.split('/')[2]))\n",
    "house['month'] = month\n",
    "house['year'] = (year)\n",
    "\n",
    "\n",
    "house.fillna(value = 0, inplace=True)\n",
    "\n",
    "house.sqft_basement.replace('?', '0.0', inplace=True)\n",
    "\n",
    "house['sqft_basement'] = house['sqft_basement'].astype(float)\n",
    "\n",
    "house_filt = house[(house['price'] < 2000000)].copy()\n",
    "\n",
    "house_filt = house_filt[(house_filt['bedrooms'] <= 2)].copy()\n",
    "\n",
    "house_filt = house_filt[(house_filt['bathrooms'] <= 2)].copy()\n",
    "\n",
    "house_filt = house_filt[(house_filt['sqft_living'] <= 3000)].copy()\n",
    "\n",
    "house_filt = house_filt[(house_filt['sqft_above'] <= 3000)].copy()\n",
    "\n",
    "#df_housing = df_housing.loc[df_housing['price'] < 4_500_000]\n",
    "#df_housing = df_housing.loc[df_housing['bedrooms']< 33]\n",
    "\n",
    "X = house_filt[['sqft_living']]\n",
    "Y = house_filt['price']\n",
    "\n",
    "X_train, X_test,Y_train,Y_test = train_test_split(X, Y,test_size =0.3)\n",
    "X_test\n"
   ]
  },
  {
   "cell_type": "markdown",
   "metadata": {},
   "source": [
    "house_filt.plot.scatter(x = 'sqft_living', y= 'price');"
   ]
  },
  {
   "cell_type": "markdown",
   "metadata": {},
   "source": [
    "\n",
    "\n",
    "import statsmodels.api as sm\n",
    "X = sm.add_constant(X)\n",
    "base_model = sm.OLS(Y_test,X_test).fit()\n",
    "base_model.summary()"
   ]
  },
  {
   "cell_type": "code",
   "execution_count": 2,
   "metadata": {
    "scrolled": false
   },
   "outputs": [
    {
     "data": {
      "text/html": [
       "<table class=\"simpletable\">\n",
       "<caption>OLS Regression Results</caption>\n",
       "<tr>\n",
       "  <th>Dep. Variable:</th>          <td>price</td>      <th>  R-squared:         </th> <td>   0.258</td> \n",
       "</tr>\n",
       "<tr>\n",
       "  <th>Model:</th>                   <td>OLS</td>       <th>  Adj. R-squared:    </th> <td>   0.257</td> \n",
       "</tr>\n",
       "<tr>\n",
       "  <th>Method:</th>             <td>Least Squares</td>  <th>  F-statistic:       </th> <td>   269.2</td> \n",
       "</tr>\n",
       "<tr>\n",
       "  <th>Date:</th>             <td>Sun, 24 Sep 2023</td> <th>  Prob (F-statistic):</th> <td>3.81e-52</td> \n",
       "</tr>\n",
       "<tr>\n",
       "  <th>Time:</th>                 <td>00:18:58</td>     <th>  Log-Likelihood:    </th> <td> -10321.</td> \n",
       "</tr>\n",
       "<tr>\n",
       "  <th>No. Observations:</th>      <td>   777</td>      <th>  AIC:               </th> <td>2.065e+04</td>\n",
       "</tr>\n",
       "<tr>\n",
       "  <th>Df Residuals:</th>          <td>   775</td>      <th>  BIC:               </th> <td>2.065e+04</td>\n",
       "</tr>\n",
       "<tr>\n",
       "  <th>Df Model:</th>              <td>     1</td>      <th>                     </th>     <td> </td>    \n",
       "</tr>\n",
       "<tr>\n",
       "  <th>Covariance Type:</th>      <td>nonrobust</td>    <th>                     </th>     <td> </td>    \n",
       "</tr>\n",
       "</table>\n",
       "<table class=\"simpletable\">\n",
       "<tr>\n",
       "       <td></td>          <th>coef</th>     <th>std err</th>      <th>t</th>      <th>P>|t|</th>  <th>[0.025</th>    <th>0.975]</th>  \n",
       "</tr>\n",
       "<tr>\n",
       "  <th>const</th>       <td> 1.342e+05</td> <td> 1.57e+04</td> <td>    8.529</td> <td> 0.000</td> <td> 1.03e+05</td> <td> 1.65e+05</td>\n",
       "</tr>\n",
       "<tr>\n",
       "  <th>sqft_living</th> <td>  214.2806</td> <td>   13.061</td> <td>   16.406</td> <td> 0.000</td> <td>  188.642</td> <td>  239.920</td>\n",
       "</tr>\n",
       "</table>\n",
       "<table class=\"simpletable\">\n",
       "<tr>\n",
       "  <th>Omnibus:</th>       <td>84.771</td> <th>  Durbin-Watson:     </th> <td>   1.997</td>\n",
       "</tr>\n",
       "<tr>\n",
       "  <th>Prob(Omnibus):</th> <td> 0.000</td> <th>  Jarque-Bera (JB):  </th> <td> 138.429</td>\n",
       "</tr>\n",
       "<tr>\n",
       "  <th>Skew:</th>          <td> 0.732</td> <th>  Prob(JB):          </th> <td>8.72e-31</td>\n",
       "</tr>\n",
       "<tr>\n",
       "  <th>Kurtosis:</th>      <td> 4.460</td> <th>  Cond. No.          </th> <td>3.71e+03</td>\n",
       "</tr>\n",
       "</table><br/><br/>Notes:<br/>[1] Standard Errors assume that the covariance matrix of the errors is correctly specified.<br/>[2] The condition number is large, 3.71e+03. This might indicate that there are<br/>strong multicollinearity or other numerical problems."
      ],
      "text/plain": [
       "<class 'statsmodels.iolib.summary.Summary'>\n",
       "\"\"\"\n",
       "                            OLS Regression Results                            \n",
       "==============================================================================\n",
       "Dep. Variable:                  price   R-squared:                       0.258\n",
       "Model:                            OLS   Adj. R-squared:                  0.257\n",
       "Method:                 Least Squares   F-statistic:                     269.2\n",
       "Date:                Sun, 24 Sep 2023   Prob (F-statistic):           3.81e-52\n",
       "Time:                        00:18:58   Log-Likelihood:                -10321.\n",
       "No. Observations:                 777   AIC:                         2.065e+04\n",
       "Df Residuals:                     775   BIC:                         2.065e+04\n",
       "Df Model:                           1                                         \n",
       "Covariance Type:            nonrobust                                         \n",
       "===============================================================================\n",
       "                  coef    std err          t      P>|t|      [0.025      0.975]\n",
       "-------------------------------------------------------------------------------\n",
       "const        1.342e+05   1.57e+04      8.529      0.000    1.03e+05    1.65e+05\n",
       "sqft_living   214.2806     13.061     16.406      0.000     188.642     239.920\n",
       "==============================================================================\n",
       "Omnibus:                       84.771   Durbin-Watson:                   1.997\n",
       "Prob(Omnibus):                  0.000   Jarque-Bera (JB):              138.429\n",
       "Skew:                           0.732   Prob(JB):                     8.72e-31\n",
       "Kurtosis:                       4.460   Cond. No.                     3.71e+03\n",
       "==============================================================================\n",
       "\n",
       "Notes:\n",
       "[1] Standard Errors assume that the covariance matrix of the errors is correctly specified.\n",
       "[2] The condition number is large, 3.71e+03. This might indicate that there are\n",
       "strong multicollinearity or other numerical problems.\n",
       "\"\"\""
      ]
     },
     "execution_count": 2,
     "metadata": {},
     "output_type": "execute_result"
    }
   ],
   "source": [
    "predictors = X_test\n",
    "\n",
    "import statsmodels.api as sm\n",
    "predictors_int = sm.add_constant(predictors)\n",
    "base_model = sm.OLS(Y_test,predictors_int).fit()\n",
    "base_model.summary()"
   ]
  },
  {
   "cell_type": "markdown",
   "metadata": {},
   "source": [
    "The rsquared value here is 21% which is very low, this means this independent variable (sqft_living) is explaining 21% of the depednent variable which price. \n",
    "\n",
    "Skewness is positively right skewed(?) \n",
    "\n",
    "Kurtosis is within the 1-7 range\n",
    "\n"
   ]
  },
  {
   "cell_type": "markdown",
   "metadata": {},
   "source": [
    "#Y_pred = base_model.predict(X_test)\n",
    "\n",
    "#plt.scatter(X_test, Y_test, color ='b')\n",
    "\n",
    "#plt.plot(X_test, Y_pred, color ='k')\n",
    "\n",
    "#plt.show()"
   ]
  },
  {
   "cell_type": "markdown",
   "metadata": {},
   "source": [
    "#linear_model =  ols('price ~ sqft_living', data=house_filt).fit()\n"
   ]
  },
  {
   "cell_type": "code",
   "execution_count": null,
   "metadata": {},
   "outputs": [],
   "source": [
    "plt.scatter(house_filt['price'],house_filt['sqft_living'])"
   ]
  },
  {
   "cell_type": "code",
   "execution_count": null,
   "metadata": {
    "scrolled": true
   },
   "outputs": [],
   "source": [
    "sns.histplot(base_model.resid);"
   ]
  },
  {
   "cell_type": "code",
   "execution_count": null,
   "metadata": {
    "scrolled": true
   },
   "outputs": [],
   "source": []
  },
  {
   "cell_type": "code",
   "execution_count": 3,
   "metadata": {
    "scrolled": false
   },
   "outputs": [
    {
     "data": {
      "image/png": "[encoded data removed]",
      "text/plain": [
       "<Figure size 432x288 with 1 Axes>"
      ]
     },
     "metadata": {
      "needs_background": "light"
     },
     "output_type": "display_data"
    }
   ],
   "source": [
    "mu, std = stats.norm.fit(base_model.resid)\n",
    "mu, std\n",
    "\n",
    "fig, ax = plt.subplots()\n",
    "# plot the residuals\n",
    "sns.histplot(x=base_model.resid, ax=ax, stat=\"density\", linewidth=0, kde=True)\n",
    "ax.set(title=\"Distribution of residuals\", xlabel=\"residual\")\n",
    "\n",
    "# plot corresponding normal curve\n",
    "xmin, xmax = plt.xlim() # the maximum x values from the histogram above\n",
    "x = np.linspace(xmin, xmax, 100) # generate some x values\n",
    "p = stats.norm.pdf(x, mu, std) # calculate the y values for the normal curve\n",
    "sns.lineplot(x=x, y=p, color=\"orange\", ax=ax)\n",
    "plt.show()\n",
    "\n",
    "#showing the residuals"
   ]
  },
  {
   "cell_type": "markdown",
   "metadata": {},
   "source": [
    "residuals = (Y_train - base_model.predict(X_train)).values\n"
   ]
  },
  {
   "cell_type": "code",
   "execution_count": 4,
   "metadata": {},
   "outputs": [
    {
     "data": {
      "image/png": "[encoded data removed]",
      "text/plain": [
       "<Figure size 432x288 with 1 Axes>"
      ]
     },
     "metadata": {
      "needs_background": "light"
     },
     "output_type": "display_data"
    }
   ],
   "source": [
    "sm.graphics.plot_fit(base_model, 'sqft_living')\n",
    "plt.show()"
   ]
  },
  {
   "cell_type": "code",
   "execution_count": 5,
   "metadata": {},
   "outputs": [
    {
     "data": {
      "text/plain": [
       "<AxesSubplot:>"
      ]
     },
     "execution_count": 5,
     "metadata": {},
     "output_type": "execute_result"
    },
    {
     "data": {
      "image/png": "[encoded data removed]",
      "text/plain": [
       "<Figure size 432x288 with 1 Axes>"
      ]
     },
     "metadata": {
      "needs_background": "light"
     },
     "output_type": "display_data"
    }
   ],
   "source": [
    "sns.boxplot(x=base_model.resid, showmeans=True)\n",
    "\n",
    "#residuals showing mainlyscattered around 0"
   ]
  },
  {
   "cell_type": "code",
   "execution_count": null,
   "metadata": {
    "scrolled": false
   },
   "outputs": [],
   "source": [
    "regressor = LinearRegression()\n",
    "regressor.fit(X_train, Y_train)\n",
    "\n",
    "y_pred = regressor.predict(X_test)\n",
    "\n",
    "plt.scatter(X_train, Y_train,color='g')\n",
    "plt.plot(X_test, y_pred,color='k')\n",
    "\n",
    "plt.show()"
   ]
  },
  {
   "cell_type": "code",
   "execution_count": 6,
   "metadata": {
    "scrolled": true
   },
   "outputs": [
    {
     "data": {
      "image/png": "[encoded data removed]",
      "text/plain": [
       "<Figure size 432x288 with 1 Axes>"
      ]
     },
     "metadata": {
      "needs_background": "light"
     },
     "output_type": "display_data"
    }
   ],
   "source": [
    "sm.qqplot(base_model.resid, line='s');\n",
    "\n",
    "#QQ plot"
   ]
  },
  {
   "cell_type": "code",
   "execution_count": null,
   "metadata": {},
   "outputs": [],
   "source": [
    "#diabetes_y_pred = regr.predict(diabetes_X_test)"
   ]
  },
  {
   "cell_type": "markdown",
   "metadata": {},
   "source": [
    "measurements = np.y_pred(loc = 20, scale = 5, size=100)   \n",
    "stats.probplot(y_pred, dist=\"norm\", plot=pylab)\n",
    "pylab.show()"
   ]
  },
  {
   "cell_type": "code",
   "execution_count": null,
   "metadata": {},
   "outputs": [],
   "source": [
    "#baseline_model = sm.OLS(y, sm.add_constant(X))\n",
    "#baseline_results = baseline_model.fit()\n",
    "\n",
    "#print(baseline_results.summary())"
   ]
  },
  {
   "cell_type": "code",
   "execution_count": null,
   "metadata": {
    "scrolled": false
   },
   "outputs": [],
   "source": []
  },
  {
   "cell_type": "code",
   "execution_count": 7,
   "metadata": {},
   "outputs": [
    {
     "data": {
      "text/plain": [
       "price            1.000000\n",
       "sqft_living      0.701917\n",
       "grade            0.667951\n",
       "sqft_above       0.605368\n",
       "sqft_living15    0.585241\n",
       "bathrooms        0.525906\n",
       "view             0.393497\n",
       "sqft_basement    0.321108\n",
       "bedrooms         0.308787\n",
       "lat              0.306692\n",
       "waterfront       0.264306\n",
       "floors           0.256804\n",
       "yr_renovated     0.117855\n",
       "sqft_lot         0.089876\n",
       "sqft_lot15       0.082845\n",
       "yr_built         0.053953\n",
       "zipcode          0.053402\n",
       "condition        0.036056\n",
       "long             0.022036\n",
       "id               0.016772\n",
       "month            0.009928\n",
       "year             0.003727\n",
       "Name: price, dtype: float64"
      ]
     },
     "execution_count": 7,
     "metadata": {},
     "output_type": "execute_result"
    }
   ],
   "source": [
    "abs(house.corr()['price']).sort_values(ascending=False)"
   ]
  },
  {
   "cell_type": "code",
   "execution_count": null,
   "metadata": {},
   "outputs": [],
   "source": []
  },
  {
   "cell_type": "code",
   "execution_count": 8,
   "metadata": {},
   "outputs": [
    {
     "data": {
      "text/html": [
       "<table class=\"simpletable\">\n",
       "<caption>OLS Regression Results</caption>\n",
       "<tr>\n",
       "  <th>Dep. Variable:</th>          <td>price</td>      <th>  R-squared:         </th> <td>   0.321</td> \n",
       "</tr>\n",
       "<tr>\n",
       "  <th>Model:</th>                   <td>OLS</td>       <th>  Adj. R-squared:    </th> <td>   0.316</td> \n",
       "</tr>\n",
       "<tr>\n",
       "  <th>Method:</th>             <td>Least Squares</td>  <th>  F-statistic:       </th> <td>   72.74</td> \n",
       "</tr>\n",
       "<tr>\n",
       "  <th>Date:</th>             <td>Sun, 24 Sep 2023</td> <th>  Prob (F-statistic):</th> <td>2.10e-62</td> \n",
       "</tr>\n",
       "<tr>\n",
       "  <th>Time:</th>                 <td>00:19:53</td>     <th>  Log-Likelihood:    </th> <td> -10229.</td> \n",
       "</tr>\n",
       "<tr>\n",
       "  <th>No. Observations:</th>      <td>   777</td>      <th>  AIC:               </th> <td>2.047e+04</td>\n",
       "</tr>\n",
       "<tr>\n",
       "  <th>Df Residuals:</th>          <td>   771</td>      <th>  BIC:               </th> <td>2.050e+04</td>\n",
       "</tr>\n",
       "<tr>\n",
       "  <th>Df Model:</th>              <td>     5</td>      <th>                     </th>     <td> </td>    \n",
       "</tr>\n",
       "<tr>\n",
       "  <th>Covariance Type:</th>      <td>nonrobust</td>    <th>                     </th>     <td> </td>    \n",
       "</tr>\n",
       "</table>\n",
       "<table class=\"simpletable\">\n",
       "<tr>\n",
       "       <td></td>          <th>coef</th>     <th>std err</th>      <th>t</th>      <th>P>|t|</th>  <th>[0.025</th>    <th>0.975]</th>  \n",
       "</tr>\n",
       "<tr>\n",
       "  <th>const</th>       <td>-1.564e+05</td> <td> 3.55e+04</td> <td>   -4.401</td> <td> 0.000</td> <td>-2.26e+05</td> <td>-8.66e+04</td>\n",
       "</tr>\n",
       "<tr>\n",
       "  <th>bathrooms</th>   <td> -1.27e+04</td> <td> 1.45e+04</td> <td>   -0.876</td> <td> 0.381</td> <td>-4.12e+04</td> <td> 1.58e+04</td>\n",
       "</tr>\n",
       "<tr>\n",
       "  <th>sqft_living</th> <td>  119.2370</td> <td>   20.625</td> <td>    5.781</td> <td> 0.000</td> <td>   78.748</td> <td>  159.726</td>\n",
       "</tr>\n",
       "<tr>\n",
       "  <th>sqft_above</th>  <td>  -55.5423</td> <td>   24.816</td> <td>   -2.238</td> <td> 0.025</td> <td> -104.257</td> <td>   -6.827</td>\n",
       "</tr>\n",
       "<tr>\n",
       "  <th>grade</th>       <td> 6.806e+04</td> <td> 6558.552</td> <td>   10.377</td> <td> 0.000</td> <td> 5.52e+04</td> <td> 8.09e+04</td>\n",
       "</tr>\n",
       "<tr>\n",
       "  <th>view</th>        <td> 5.285e+04</td> <td> 7124.083</td> <td>    7.419</td> <td> 0.000</td> <td> 3.89e+04</td> <td> 6.68e+04</td>\n",
       "</tr>\n",
       "</table>\n",
       "<table class=\"simpletable\">\n",
       "<tr>\n",
       "  <th>Omnibus:</th>       <td>68.623</td> <th>  Durbin-Watson:     </th> <td>   1.999</td>\n",
       "</tr>\n",
       "<tr>\n",
       "  <th>Prob(Omnibus):</th> <td> 0.000</td> <th>  Jarque-Bera (JB):  </th> <td> 112.762</td>\n",
       "</tr>\n",
       "<tr>\n",
       "  <th>Skew:</th>          <td> 0.614</td> <th>  Prob(JB):          </th> <td>3.27e-25</td>\n",
       "</tr>\n",
       "<tr>\n",
       "  <th>Kurtosis:</th>      <td> 4.406</td> <th>  Cond. No.          </th> <td>1.26e+04</td>\n",
       "</tr>\n",
       "</table><br/><br/>Notes:<br/>[1] Standard Errors assume that the covariance matrix of the errors is correctly specified.<br/>[2] The condition number is large, 1.26e+04. This might indicate that there are<br/>strong multicollinearity or other numerical problems."
      ],
      "text/plain": [
       "<class 'statsmodels.iolib.summary.Summary'>\n",
       "\"\"\"\n",
       "                            OLS Regression Results                            \n",
       "==============================================================================\n",
       "Dep. Variable:                  price   R-squared:                       0.321\n",
       "Model:                            OLS   Adj. R-squared:                  0.316\n",
       "Method:                 Least Squares   F-statistic:                     72.74\n",
       "Date:                Sun, 24 Sep 2023   Prob (F-statistic):           2.10e-62\n",
       "Time:                        00:19:53   Log-Likelihood:                -10229.\n",
       "No. Observations:                 777   AIC:                         2.047e+04\n",
       "Df Residuals:                     771   BIC:                         2.050e+04\n",
       "Df Model:                           5                                         \n",
       "Covariance Type:            nonrobust                                         \n",
       "===============================================================================\n",
       "                  coef    std err          t      P>|t|      [0.025      0.975]\n",
       "-------------------------------------------------------------------------------\n",
       "const       -1.564e+05   3.55e+04     -4.401      0.000   -2.26e+05   -8.66e+04\n",
       "bathrooms    -1.27e+04   1.45e+04     -0.876      0.381   -4.12e+04    1.58e+04\n",
       "sqft_living   119.2370     20.625      5.781      0.000      78.748     159.726\n",
       "sqft_above    -55.5423     24.816     -2.238      0.025    -104.257      -6.827\n",
       "grade        6.806e+04   6558.552     10.377      0.000    5.52e+04    8.09e+04\n",
       "view         5.285e+04   7124.083      7.419      0.000    3.89e+04    6.68e+04\n",
       "==============================================================================\n",
       "Omnibus:                       68.623   Durbin-Watson:                   1.999\n",
       "Prob(Omnibus):                  0.000   Jarque-Bera (JB):              112.762\n",
       "Skew:                           0.614   Prob(JB):                     3.27e-25\n",
       "Kurtosis:                       4.406   Cond. No.                     1.26e+04\n",
       "==============================================================================\n",
       "\n",
       "Notes:\n",
       "[1] Standard Errors assume that the covariance matrix of the errors is correctly specified.\n",
       "[2] The condition number is large, 1.26e+04. This might indicate that there are\n",
       "strong multicollinearity or other numerical problems.\n",
       "\"\"\""
      ]
     },
     "execution_count": 8,
     "metadata": {},
     "output_type": "execute_result"
    }
   ],
   "source": [
    "X_2 = house_filt[['bathrooms','sqft_living', 'sqft_above', 'grade', 'view']]\n",
    "Y_2 = house_filt['price']\n",
    "X_2.head(10)\n",
    "\n",
    "x2_train, x2_test,y2_train,y2_test = train_test_split(X_2,Y_2,test_size =0.3)\n",
    "\n",
    "predictors_2 = x2_test\n",
    "\n",
    "import statsmodels.api as sm\n",
    "predictors_int = sm.add_constant(predictors_2)\n",
    "model_2 = sm.OLS(y2_test,predictors_int).fit()\n",
    "model_2.summary()\n",
    "\n",
    "#2nd model"
   ]
  },
  {
   "cell_type": "markdown",
   "metadata": {},
   "source": [
    "going to include grade in the multiple linear so changing it to dummy variables to counteract multicollinearity"
   ]
  },
  {
   "cell_type": "code",
   "execution_count": 9,
   "metadata": {},
   "outputs": [
    {
     "data": {
      "image/png": "[encoded data removed]",
      "text/plain": [
       "<Figure size 1080x720 with 5 Axes>"
      ]
     },
     "metadata": {
      "needs_background": "light"
     },
     "output_type": "display_data"
    }
   ],
   "source": [
    "fig = plt.figure(figsize=(15,10))\n",
    "sm.graphics.plot_partregress_grid(model_2, exog_idx=['sqft_above','sqft_living','bathrooms', 'grade', 'view'], fig=fig)\n",
    "plt.tight_layout()\n",
    "plt.show()"
   ]
  },
  {
   "cell_type": "markdown",
   "metadata": {},
   "source": [
    "regressor2 = LinearRegression()\n",
    "regressor2.fit(x2_train, y2_train)\n",
    "\n",
    "y2_pred = regressor2.predict(x2_test)\n",
    "\n",
    "plt.scatter(x2_train, y2_train,color='g')\n",
    "plt.plot(x2_test, y2_pred,color='k')\n",
    "\n",
    "plt.show()"
   ]
  },
  {
   "cell_type": "markdown",
   "metadata": {},
   "source": [
    "regressor_2 = LinearRegression()\n",
    "regressor_2.fit(x2_train, y2_train)\n",
    "\n",
    "y2_pred = regressor_2.predict(x2_test)\n",
    "\n",
    "plt.scatter(x2_train, y2_train,color='g')\n",
    "plt.plot(x2_test, y2_pred,color='k')\n",
    "\n",
    "plt.show()"
   ]
  },
  {
   "cell_type": "code",
   "execution_count": 10,
   "metadata": {
    "scrolled": true
   },
   "outputs": [
    {
     "data": {
      "text/plain": [
       "<AxesSubplot:>"
      ]
     },
     "execution_count": 10,
     "metadata": {},
     "output_type": "execute_result"
    },
    {
     "data": {
      "image/png": "[encoded data removed]",
      "text/plain": [
       "<Figure size 432x288 with 1 Axes>"
      ]
     },
     "metadata": {
      "needs_background": "light"
     },
     "output_type": "display_data"
    }
   ],
   "source": [
    "bins = [3,7,8,10,13]\n",
    "bins_grade = pd.cut(house_filt['grade'],bins)\n",
    "bins_grade.value_counts().plot(kind='bar')"
   ]
  },
  {
   "cell_type": "code",
   "execution_count": 11,
   "metadata": {},
   "outputs": [],
   "source": [
    "bins_grade = bins_grade.cat.as_unordered()\n",
    "grade_dummy = pd.get_dummies(bins_grade, prefix='grade')\n",
    "\n",
    "#creating dummy variabels for grade because grade is in categories"
   ]
  },
  {
   "cell_type": "code",
   "execution_count": null,
   "metadata": {},
   "outputs": [],
   "source": [
    "house_filt"
   ]
  },
  {
   "cell_type": "code",
   "execution_count": 12,
   "metadata": {},
   "outputs": [],
   "source": [
    "house_filt.drop('date', axis=1, inplace=True)\n",
    "house_filt.drop('id', axis=1, inplace=True)\n",
    "house_filt.drop('lat', axis=1, inplace=True)\n",
    "house_filt.drop('long', axis=1, inplace=True)\n",
    "house_filt.drop('sqft_living15', axis=1, inplace=True)\n",
    "house_filt.drop('sqft_lot15', axis=1, inplace=True)\n",
    "house_filt.drop('waterfront', axis=1, inplace=True)\n",
    "house_filt.drop('condition', axis=1, inplace=True)\n",
    "#house_filt.drop('sqft_basement', axis=1, inplace=True)\n",
    "house_filt.drop('yr_built', axis=1, inplace=True)\n",
    "house_filt.drop('yr_renovated', axis=1, inplace=True)\n",
    "house_filt.drop('zipcode', axis=1, inplace=True)\n",
    "house_filt.drop('sqft_lot', axis=1, inplace=True)\n",
    "house_filt.drop('month', axis=1, inplace=True)\n",
    "house_filt.drop('year', axis=1, inplace=True)\n",
    "house_filt.drop('bedrooms', axis=1, inplace=True)\n",
    "house_filt.drop('floors', axis=1, inplace=True)"
   ]
  },
  {
   "cell_type": "code",
   "execution_count": null,
   "metadata": {},
   "outputs": [],
   "source": []
  },
  {
   "cell_type": "code",
   "execution_count": 13,
   "metadata": {},
   "outputs": [
    {
     "name": "stderr",
     "output_type": "stream",
     "text": [
      "<ipython-input-13-0a53934c5f5e>:1: RuntimeWarning: divide by zero encountered in log\n",
      "  x_log = np.log(house_filt)\n"
     ]
    },
    {
     "data": {
      "text/html": [
       "<div>\n",
       "<style scoped>\n",
       "    .dataframe tbody tr th:only-of-type {\n",
       "        vertical-align: middle;\n",
       "    }\n",
       "\n",
       "    .dataframe tbody tr th {\n",
       "        vertical-align: top;\n",
       "    }\n",
       "\n",
       "    .dataframe thead th {\n",
       "        text-align: right;\n",
       "    }\n",
       "</style>\n",
       "<table border=\"1\" class=\"dataframe\">\n",
       "  <thead>\n",
       "    <tr style=\"text-align: right;\">\n",
       "      <th></th>\n",
       "      <th>price</th>\n",
       "      <th>bathrooms</th>\n",
       "      <th>sqft_living</th>\n",
       "      <th>view</th>\n",
       "      <th>grade</th>\n",
       "      <th>sqft_above</th>\n",
       "      <th>sqft_basement</th>\n",
       "    </tr>\n",
       "  </thead>\n",
       "  <tbody>\n",
       "    <tr>\n",
       "      <th>2</th>\n",
       "      <td>12.100712</td>\n",
       "      <td>0.000000</td>\n",
       "      <td>6.646391</td>\n",
       "      <td>-inf</td>\n",
       "      <td>1.791759</td>\n",
       "      <td>6.646391</td>\n",
       "      <td>-inf</td>\n",
       "    </tr>\n",
       "    <tr>\n",
       "      <th>11</th>\n",
       "      <td>13.056224</td>\n",
       "      <td>0.000000</td>\n",
       "      <td>7.056175</td>\n",
       "      <td>-inf</td>\n",
       "      <td>1.945910</td>\n",
       "      <td>6.756932</td>\n",
       "      <td>5.703782</td>\n",
       "    </tr>\n",
       "    <tr>\n",
       "      <th>18</th>\n",
       "      <td>12.149502</td>\n",
       "      <td>0.000000</td>\n",
       "      <td>7.090077</td>\n",
       "      <td>-inf</td>\n",
       "      <td>1.945910</td>\n",
       "      <td>7.090077</td>\n",
       "      <td>-inf</td>\n",
       "    </tr>\n",
       "    <tr>\n",
       "      <th>23</th>\n",
       "      <td>12.439958</td>\n",
       "      <td>0.405465</td>\n",
       "      <td>6.975414</td>\n",
       "      <td>-inf</td>\n",
       "      <td>1.945910</td>\n",
       "      <td>6.975414</td>\n",
       "      <td>-inf</td>\n",
       "    </tr>\n",
       "    <tr>\n",
       "      <th>31</th>\n",
       "      <td>12.542545</td>\n",
       "      <td>0.405465</td>\n",
       "      <td>7.081709</td>\n",
       "      <td>-inf</td>\n",
       "      <td>1.945910</td>\n",
       "      <td>7.081709</td>\n",
       "      <td>-inf</td>\n",
       "    </tr>\n",
       "    <tr>\n",
       "      <th>...</th>\n",
       "      <td>...</td>\n",
       "      <td>...</td>\n",
       "      <td>...</td>\n",
       "      <td>...</td>\n",
       "      <td>...</td>\n",
       "      <td>...</td>\n",
       "      <td>...</td>\n",
       "    </tr>\n",
       "    <tr>\n",
       "      <th>21562</th>\n",
       "      <td>12.800780</td>\n",
       "      <td>0.405465</td>\n",
       "      <td>6.845880</td>\n",
       "      <td>-inf</td>\n",
       "      <td>1.945910</td>\n",
       "      <td>6.845880</td>\n",
       "      <td>-inf</td>\n",
       "    </tr>\n",
       "    <tr>\n",
       "      <th>21567</th>\n",
       "      <td>12.899095</td>\n",
       "      <td>0.000000</td>\n",
       "      <td>6.565265</td>\n",
       "      <td>-inf</td>\n",
       "      <td>1.945910</td>\n",
       "      <td>6.565265</td>\n",
       "      <td>-inf</td>\n",
       "    </tr>\n",
       "    <tr>\n",
       "      <th>21572</th>\n",
       "      <td>12.934828</td>\n",
       "      <td>0.405465</td>\n",
       "      <td>7.098376</td>\n",
       "      <td>-inf</td>\n",
       "      <td>2.079442</td>\n",
       "      <td>6.927558</td>\n",
       "      <td>5.247024</td>\n",
       "    </tr>\n",
       "    <tr>\n",
       "      <th>21594</th>\n",
       "      <td>12.904459</td>\n",
       "      <td>-0.287682</td>\n",
       "      <td>6.927558</td>\n",
       "      <td>-inf</td>\n",
       "      <td>1.945910</td>\n",
       "      <td>6.927558</td>\n",
       "      <td>-inf</td>\n",
       "    </tr>\n",
       "    <tr>\n",
       "      <th>21596</th>\n",
       "      <td>12.691580</td>\n",
       "      <td>-0.287682</td>\n",
       "      <td>6.927558</td>\n",
       "      <td>-inf</td>\n",
       "      <td>1.945910</td>\n",
       "      <td>6.927558</td>\n",
       "      <td>-inf</td>\n",
       "    </tr>\n",
       "  </tbody>\n",
       "</table>\n",
       "<p>2590 rows × 7 columns</p>\n",
       "</div>"
      ],
      "text/plain": [
       "           price  bathrooms  sqft_living  view     grade  sqft_above  \\\n",
       "2      12.100712   0.000000     6.646391  -inf  1.791759    6.646391   \n",
       "11     13.056224   0.000000     7.056175  -inf  1.945910    6.756932   \n",
       "18     12.149502   0.000000     7.090077  -inf  1.945910    7.090077   \n",
       "23     12.439958   0.405465     6.975414  -inf  1.945910    6.975414   \n",
       "31     12.542545   0.405465     7.081709  -inf  1.945910    7.081709   \n",
       "...          ...        ...          ...   ...       ...         ...   \n",
       "21562  12.800780   0.405465     6.845880  -inf  1.945910    6.845880   \n",
       "21567  12.899095   0.000000     6.565265  -inf  1.945910    6.565265   \n",
       "21572  12.934828   0.405465     7.098376  -inf  2.079442    6.927558   \n",
       "21594  12.904459  -0.287682     6.927558  -inf  1.945910    6.927558   \n",
       "21596  12.691580  -0.287682     6.927558  -inf  1.945910    6.927558   \n",
       "\n",
       "       sqft_basement  \n",
       "2               -inf  \n",
       "11          5.703782  \n",
       "18              -inf  \n",
       "23              -inf  \n",
       "31              -inf  \n",
       "...              ...  \n",
       "21562           -inf  \n",
       "21567           -inf  \n",
       "21572       5.247024  \n",
       "21594           -inf  \n",
       "21596           -inf  \n",
       "\n",
       "[2590 rows x 7 columns]"
      ]
     },
     "execution_count": 13,
     "metadata": {},
     "output_type": "execute_result"
    }
   ],
   "source": [
    "x_log = np.log(house_filt)\n",
    "x_log"
   ]
  },
  {
   "cell_type": "code",
   "execution_count": null,
   "metadata": {},
   "outputs": [],
   "source": [
    "scaler = MinMaxScaler()\n",
    "scaler.fit(x3_train)\n",
    "x3_train = scaler.transform(x3_train)\n",
    "x3_test = scaler.transform(x3_test)\n",
    "model = LogisticRegression()\n",
    "model.fit(x3_train, y3_train)\n",
    "y_pred5 = model.predict(X_test)"
   ]
  },
  {
   "cell_type": "code",
   "execution_count": 14,
   "metadata": {
    "scrolled": false
   },
   "outputs": [
    {
     "data": {
      "text/html": [
       "<table class=\"simpletable\">\n",
       "<caption>OLS Regression Results</caption>\n",
       "<tr>\n",
       "  <th>Dep. Variable:</th>          <td>price</td>      <th>  R-squared:         </th> <td>   0.339</td> \n",
       "</tr>\n",
       "<tr>\n",
       "  <th>Model:</th>                   <td>OLS</td>       <th>  Adj. R-squared:    </th> <td>   0.336</td> \n",
       "</tr>\n",
       "<tr>\n",
       "  <th>Method:</th>             <td>Least Squares</td>  <th>  F-statistic:       </th> <td>   99.09</td> \n",
       "</tr>\n",
       "<tr>\n",
       "  <th>Date:</th>             <td>Sun, 24 Sep 2023</td> <th>  Prob (F-statistic):</th> <td>4.51e-68</td> \n",
       "</tr>\n",
       "<tr>\n",
       "  <th>Time:</th>                 <td>00:20:25</td>     <th>  Log-Likelihood:    </th> <td> -10240.</td> \n",
       "</tr>\n",
       "<tr>\n",
       "  <th>No. Observations:</th>      <td>   777</td>      <th>  AIC:               </th> <td>2.049e+04</td>\n",
       "</tr>\n",
       "<tr>\n",
       "  <th>Df Residuals:</th>          <td>   772</td>      <th>  BIC:               </th> <td>2.051e+04</td>\n",
       "</tr>\n",
       "<tr>\n",
       "  <th>Df Model:</th>              <td>     4</td>      <th>                     </th>     <td> </td>    \n",
       "</tr>\n",
       "<tr>\n",
       "  <th>Covariance Type:</th>      <td>nonrobust</td>    <th>                     </th>     <td> </td>    \n",
       "</tr>\n",
       "</table>\n",
       "<table class=\"simpletable\">\n",
       "<tr>\n",
       "       <td></td>          <th>coef</th>     <th>std err</th>      <th>t</th>      <th>P>|t|</th>  <th>[0.025</th>    <th>0.975]</th>  \n",
       "</tr>\n",
       "<tr>\n",
       "  <th>const</th>       <td>-1.106e+05</td> <td> 3.72e+04</td> <td>   -2.977</td> <td> 0.003</td> <td>-1.84e+05</td> <td>-3.77e+04</td>\n",
       "</tr>\n",
       "<tr>\n",
       "  <th>sqft_living</th> <td>  123.0918</td> <td>   15.352</td> <td>    8.018</td> <td> 0.000</td> <td>   92.955</td> <td>  153.228</td>\n",
       "</tr>\n",
       "<tr>\n",
       "  <th>bathrooms</th>   <td>-1.417e+04</td> <td> 1.55e+04</td> <td>   -0.911</td> <td> 0.363</td> <td>-4.47e+04</td> <td> 1.64e+04</td>\n",
       "</tr>\n",
       "<tr>\n",
       "  <th>grade</th>       <td> 5.345e+04</td> <td> 6622.752</td> <td>    8.071</td> <td> 0.000</td> <td> 4.05e+04</td> <td> 6.65e+04</td>\n",
       "</tr>\n",
       "<tr>\n",
       "  <th>view</th>        <td> 7.229e+04</td> <td> 7863.692</td> <td>    9.193</td> <td> 0.000</td> <td> 5.69e+04</td> <td> 8.77e+04</td>\n",
       "</tr>\n",
       "</table>\n",
       "<table class=\"simpletable\">\n",
       "<tr>\n",
       "  <th>Omnibus:</th>       <td>37.672</td> <th>  Durbin-Watson:     </th> <td>   2.011</td>\n",
       "</tr>\n",
       "<tr>\n",
       "  <th>Prob(Omnibus):</th> <td> 0.000</td> <th>  Jarque-Bera (JB):  </th> <td>  43.849</td>\n",
       "</tr>\n",
       "<tr>\n",
       "  <th>Skew:</th>          <td> 0.503</td> <th>  Prob(JB):          </th> <td>3.01e-10</td>\n",
       "</tr>\n",
       "<tr>\n",
       "  <th>Kurtosis:</th>      <td> 3.584</td> <th>  Cond. No.          </th> <td>9.76e+03</td>\n",
       "</tr>\n",
       "</table><br/><br/>Notes:<br/>[1] Standard Errors assume that the covariance matrix of the errors is correctly specified.<br/>[2] The condition number is large, 9.76e+03. This might indicate that there are<br/>strong multicollinearity or other numerical problems."
      ],
      "text/plain": [
       "<class 'statsmodels.iolib.summary.Summary'>\n",
       "\"\"\"\n",
       "                            OLS Regression Results                            \n",
       "==============================================================================\n",
       "Dep. Variable:                  price   R-squared:                       0.339\n",
       "Model:                            OLS   Adj. R-squared:                  0.336\n",
       "Method:                 Least Squares   F-statistic:                     99.09\n",
       "Date:                Sun, 24 Sep 2023   Prob (F-statistic):           4.51e-68\n",
       "Time:                        00:20:25   Log-Likelihood:                -10240.\n",
       "No. Observations:                 777   AIC:                         2.049e+04\n",
       "Df Residuals:                     772   BIC:                         2.051e+04\n",
       "Df Model:                           4                                         \n",
       "Covariance Type:            nonrobust                                         \n",
       "===============================================================================\n",
       "                  coef    std err          t      P>|t|      [0.025      0.975]\n",
       "-------------------------------------------------------------------------------\n",
       "const       -1.106e+05   3.72e+04     -2.977      0.003   -1.84e+05   -3.77e+04\n",
       "sqft_living   123.0918     15.352      8.018      0.000      92.955     153.228\n",
       "bathrooms   -1.417e+04   1.55e+04     -0.911      0.363   -4.47e+04    1.64e+04\n",
       "grade        5.345e+04   6622.752      8.071      0.000    4.05e+04    6.65e+04\n",
       "view         7.229e+04   7863.692      9.193      0.000    5.69e+04    8.77e+04\n",
       "==============================================================================\n",
       "Omnibus:                       37.672   Durbin-Watson:                   2.011\n",
       "Prob(Omnibus):                  0.000   Jarque-Bera (JB):               43.849\n",
       "Skew:                           0.503   Prob(JB):                     3.01e-10\n",
       "Kurtosis:                       3.584   Cond. No.                     9.76e+03\n",
       "==============================================================================\n",
       "\n",
       "Notes:\n",
       "[1] Standard Errors assume that the covariance matrix of the errors is correctly specified.\n",
       "[2] The condition number is large, 9.76e+03. This might indicate that there are\n",
       "strong multicollinearity or other numerical problems.\n",
       "\"\"\""
      ]
     },
     "execution_count": 14,
     "metadata": {},
     "output_type": "execute_result"
    }
   ],
   "source": [
    "X_3 = house_filt[['sqft_living', 'bathrooms', 'grade', 'view']]\n",
    "Y_3 = house_filt['price']\n",
    "X_3.head(10)\n",
    "\n",
    "x3_train, x3_test,y3_train,y3_test = train_test_split(X_3,Y_3,test_size =0.3)\n",
    "\n",
    "predictors_3 = x3_test\n",
    "\n",
    "import statsmodels.api as sm\n",
    "predictors_int = sm.add_constant(predictors_3)\n",
    "model_3 = sm.OLS(y3_test,predictors_int).fit()\n",
    "model_3.summary()\n",
    "\n",
    "#model 3"
   ]
  },
  {
   "cell_type": "markdown",
   "metadata": {},
   "source": [
    "The F statistic is 0.00000000378 meaning it is statistically significant. "
   ]
  },
  {
   "cell_type": "code",
   "execution_count": null,
   "metadata": {},
   "outputs": [],
   "source": [
    "from sklearn.preprocessing import MinMaxScaler\n",
    "X_std = (X - X.min(axis=0)) / (X.max(axis=0) - X.min(axis=0))\n",
    "X_scaled = X_std * (max - min) + min"
   ]
  },
  {
   "cell_type": "code",
   "execution_count": null,
   "metadata": {},
   "outputs": [],
   "source": [
    "from sklearn.dummy import DummyRegressor\n",
    "\n",
    "dummy_regr = DummyRegressor()\n",
    "dummy_regr.fit(x3_train, y3_train)\n",
    "dummy_regr.predict(x3_train)\n",
    "dummy_regr.predict(x3_test)\n",
    "dummy_regr.score(x3_train, y3_train)\n",
    "dummy_regr.score(x3_test, y3_test)\n",
    "dummy_train_RMSE = model_3(y3_train,dummy_regr.predict(x3_train), squared = False)\n",
    "dummy_test_RMSE = model_3(y3_test,dummy_regr.predict(x3_test), squared = False)\n",
    "\n",
    "print()\n",
    "print(f'Baseline Model Train Score: {dummy_regr.score(x3_train, y3_train)}')\n",
    "print(f'Baseline Model Train RMSE: {round(dummy_train_RMSE)}')\n",
    "print()\n",
    "print(f'Baseline Model Test Score: {dummy_regr.score(x3_test, y3_test)}')\n",
    "print(f'Baseline Model Test RMSE: {round(dummy_test_RMSE)}')"
   ]
  },
  {
   "cell_type": "code",
   "execution_count": null,
   "metadata": {},
   "outputs": [],
   "source": [
    "from sklearn.linear_model import LinearRegression\n",
    "linreg = LinearRegression()\n",
    "linreg.fit(x3_train, y3_train)\n",
    "\n",
    "y_hat_train = linreg.predict(x3_train)\n",
    "y_hat_test = linreg.predict(x3_test)\n",
    "\n"
   ]
  },
  {
   "cell_type": "code",
   "execution_count": null,
   "metadata": {},
   "outputs": [],
   "source": [
    "train_residuals = y_hat_train - y3_train\n",
    "test_residuals = y_hat_test - y3_test"
   ]
  },
  {
   "cell_type": "code",
   "execution_count": null,
   "metadata": {},
   "outputs": [],
   "source": [
    "from sklearn.metrics import mean_squared_error\n",
    "\n",
    "train_mse = mean_squared_error(y3_train, y_hat_train)\n",
    "test_mse = mean_squared_error(y3_test, y_hat_test)\n",
    "print('Train Mean Squared Error:', train_mse)\n",
    "print('Test Mean Squared Error:', test_mse)"
   ]
  },
  {
   "cell_type": "code",
   "execution_count": null,
   "metadata": {
    "scrolled": true
   },
   "outputs": [],
   "source": [
    "from sklearn.model_selection import cross_val_score\n",
    "\n",
    "cross_val_score(model_3, X_test, Y_test)"
   ]
  },
  {
   "cell_type": "code",
   "execution_count": null,
   "metadata": {},
   "outputs": [],
   "source": []
  },
  {
   "cell_type": "markdown",
   "metadata": {},
   "source": [
    "model_2 = sm.OLS(X_test,Y_test).fit()\n",
    "model_2.summary()"
   ]
  },
  {
   "cell_type": "markdown",
   "metadata": {},
   "source": [
    "from sklearn.linear_model import LinearRegression\n",
    "clf = LinearRegression()\n",
    "clf.fit(x_train,y_train)\n",
    "clf.predict(x_test)\n",
    "clf.score(x_test,y_test)\n",
    "house_filt.hist(figsize=(20,12))\n",
    "plt.show()"
   ]
  },
  {
   "cell_type": "code",
   "execution_count": 15,
   "metadata": {},
   "outputs": [
    {
     "data": {
      "text/html": [
       "<table class=\"simpletable\">\n",
       "<caption>OLS Regression Results</caption>\n",
       "<tr>\n",
       "  <th>Dep. Variable:</th>          <td>price</td>      <th>  R-squared:         </th> <td>   0.379</td> \n",
       "</tr>\n",
       "<tr>\n",
       "  <th>Model:</th>                   <td>OLS</td>       <th>  Adj. R-squared:    </th> <td>   0.376</td> \n",
       "</tr>\n",
       "<tr>\n",
       "  <th>Method:</th>             <td>Least Squares</td>  <th>  F-statistic:       </th> <td>   117.7</td> \n",
       "</tr>\n",
       "<tr>\n",
       "  <th>Date:</th>             <td>Sun, 24 Sep 2023</td> <th>  Prob (F-statistic):</th> <td>2.16e-78</td> \n",
       "</tr>\n",
       "<tr>\n",
       "  <th>Time:</th>                 <td>00:20:47</td>     <th>  Log-Likelihood:    </th> <td> -10231.</td> \n",
       "</tr>\n",
       "<tr>\n",
       "  <th>No. Observations:</th>      <td>   777</td>      <th>  AIC:               </th> <td>2.047e+04</td>\n",
       "</tr>\n",
       "<tr>\n",
       "  <th>Df Residuals:</th>          <td>   772</td>      <th>  BIC:               </th> <td>2.050e+04</td>\n",
       "</tr>\n",
       "<tr>\n",
       "  <th>Df Model:</th>              <td>     4</td>      <th>                     </th>     <td> </td>    \n",
       "</tr>\n",
       "<tr>\n",
       "  <th>Covariance Type:</th>      <td>nonrobust</td>    <th>                     </th>     <td> </td>    \n",
       "</tr>\n",
       "</table>\n",
       "<table class=\"simpletable\">\n",
       "<tr>\n",
       "        <td></td>           <th>coef</th>     <th>std err</th>      <th>t</th>      <th>P>|t|</th>  <th>[0.025</th>    <th>0.975]</th>  \n",
       "</tr>\n",
       "<tr>\n",
       "  <th>const</th>         <td>-2.148e+05</td> <td> 3.59e+04</td> <td>   -5.987</td> <td> 0.000</td> <td>-2.85e+05</td> <td>-1.44e+05</td>\n",
       "</tr>\n",
       "<tr>\n",
       "  <th>sqft_living</th>   <td>   96.7756</td> <td>   17.448</td> <td>    5.547</td> <td> 0.000</td> <td>   62.525</td> <td>  131.026</td>\n",
       "</tr>\n",
       "<tr>\n",
       "  <th>grade</th>         <td> 7.022e+04</td> <td> 6321.196</td> <td>   11.108</td> <td> 0.000</td> <td> 5.78e+04</td> <td> 8.26e+04</td>\n",
       "</tr>\n",
       "<tr>\n",
       "  <th>view</th>          <td> 5.424e+04</td> <td> 8896.827</td> <td>    6.097</td> <td> 0.000</td> <td> 3.68e+04</td> <td> 7.17e+04</td>\n",
       "</tr>\n",
       "<tr>\n",
       "  <th>sqft_basement</th> <td>   54.5723</td> <td>   24.017</td> <td>    2.272</td> <td> 0.023</td> <td>    7.426</td> <td>  101.718</td>\n",
       "</tr>\n",
       "</table>\n",
       "<table class=\"simpletable\">\n",
       "<tr>\n",
       "  <th>Omnibus:</th>       <td>33.524</td> <th>  Durbin-Watson:     </th> <td>   2.085</td>\n",
       "</tr>\n",
       "<tr>\n",
       "  <th>Prob(Omnibus):</th> <td> 0.000</td> <th>  Jarque-Bera (JB):  </th> <td>  41.255</td>\n",
       "</tr>\n",
       "<tr>\n",
       "  <th>Skew:</th>          <td> 0.436</td> <th>  Prob(JB):          </th> <td>1.10e-09</td>\n",
       "</tr>\n",
       "<tr>\n",
       "  <th>Kurtosis:</th>      <td> 3.716</td> <th>  Cond. No.          </th> <td>9.72e+03</td>\n",
       "</tr>\n",
       "</table><br/><br/>Notes:<br/>[1] Standard Errors assume that the covariance matrix of the errors is correctly specified.<br/>[2] The condition number is large, 9.72e+03. This might indicate that there are<br/>strong multicollinearity or other numerical problems."
      ],
      "text/plain": [
       "<class 'statsmodels.iolib.summary.Summary'>\n",
       "\"\"\"\n",
       "                            OLS Regression Results                            \n",
       "==============================================================================\n",
       "Dep. Variable:                  price   R-squared:                       0.379\n",
       "Model:                            OLS   Adj. R-squared:                  0.376\n",
       "Method:                 Least Squares   F-statistic:                     117.7\n",
       "Date:                Sun, 24 Sep 2023   Prob (F-statistic):           2.16e-78\n",
       "Time:                        00:20:47   Log-Likelihood:                -10231.\n",
       "No. Observations:                 777   AIC:                         2.047e+04\n",
       "Df Residuals:                     772   BIC:                         2.050e+04\n",
       "Df Model:                           4                                         \n",
       "Covariance Type:            nonrobust                                         \n",
       "=================================================================================\n",
       "                    coef    std err          t      P>|t|      [0.025      0.975]\n",
       "---------------------------------------------------------------------------------\n",
       "const         -2.148e+05   3.59e+04     -5.987      0.000   -2.85e+05   -1.44e+05\n",
       "sqft_living      96.7756     17.448      5.547      0.000      62.525     131.026\n",
       "grade          7.022e+04   6321.196     11.108      0.000    5.78e+04    8.26e+04\n",
       "view           5.424e+04   8896.827      6.097      0.000    3.68e+04    7.17e+04\n",
       "sqft_basement    54.5723     24.017      2.272      0.023       7.426     101.718\n",
       "==============================================================================\n",
       "Omnibus:                       33.524   Durbin-Watson:                   2.085\n",
       "Prob(Omnibus):                  0.000   Jarque-Bera (JB):               41.255\n",
       "Skew:                           0.436   Prob(JB):                     1.10e-09\n",
       "Kurtosis:                       3.716   Cond. No.                     9.72e+03\n",
       "==============================================================================\n",
       "\n",
       "Notes:\n",
       "[1] Standard Errors assume that the covariance matrix of the errors is correctly specified.\n",
       "[2] The condition number is large, 9.72e+03. This might indicate that there are\n",
       "strong multicollinearity or other numerical problems.\n",
       "\"\"\""
      ]
     },
     "execution_count": 15,
     "metadata": {},
     "output_type": "execute_result"
    }
   ],
   "source": [
    "X_4 = house_filt[['sqft_living', 'grade', 'view', 'sqft_basement']]\n",
    "Y_4 = house_filt['price']\n",
    "X_4.head(10)\n",
    "\n",
    "x4_train, x4_test,y4_train,y4_test = train_test_split(X_4,Y_4,test_size =0.3)\n",
    "\n",
    "predictors_4 = x4_test\n",
    "\n",
    "import statsmodels.api as sm\n",
    "predictors_int = sm.add_constant(predictors_4)\n",
    "model_4 = sm.OLS(y4_test,predictors_int).fit()\n",
    "model_4.summary()\n",
    "\n",
    "#model 4"
   ]
  },
  {
   "cell_type": "markdown",
   "metadata": {},
   "source": [
    "you can say adding waterfront didnt really imrpove it... try adding a few more and see.."
   ]
  },
  {
   "cell_type": "code",
   "execution_count": null,
   "metadata": {},
   "outputs": [],
   "source": []
  },
  {
   "cell_type": "code",
   "execution_count": null,
   "metadata": {},
   "outputs": [],
   "source": [
    "house_filt.drop('date', axis=1, inplace=True)\n",
    "house_filt.drop('id', axis=1, inplace=True)\n",
    "house_filt.drop('lat', axis=1, inplace=True)\n",
    "house_filt.drop('long', axis=1, inplace=True)\n",
    "house_filt.drop('sqft_living15', axis=1, inplace=True)\n",
    "house_filt.drop('sqft_lot15', axis=1, inplace=True)\n",
    "house_filt.drop('waterfront', axis=1, inplace=True)\n",
    "house_filt.drop('view', axis=1, inplace=True)\n",
    "house_filt.drop('condition', axis=1, inplace=True)\n",
    "house_filt.drop('sqft_basement', axis=1, inplace=True)\n",
    "house_filt.drop('yr_built', axis=1, inplace=True)\n",
    "house_filt.drop('yr_renovated', axis=1, inplace=True)\n",
    "house_filt.drop('zipcode', axis=1, inplace=True)\n",
    "house_filt.drop('sqft_lot', axis=1, inplace=True)\n",
    "house_filt.drop('month', axis=1, inplace=True)\n",
    "house_filt.drop('year', axis=1, inplace=True)\n",
    "house_filt.drop('bedrooms', axis=1, inplace=True)\n",
    "house_filt.drop('floors', axis=1, inplace=True)"
   ]
  },
  {
   "cell_type": "markdown",
   "metadata": {},
   "source": [
    "predictors = house_filt.drop('price', axis=1)\n",
    "\n",
    "import statsmodels.api as sm\n",
    "predictors_int = sm.add_constant(predictors)\n",
    "model = sm.OLS(house_filt['price'],predictors_int).fit()\n",
    "model.summary()"
   ]
  },
  {
   "cell_type": "code",
   "execution_count": null,
   "metadata": {},
   "outputs": [],
   "source": []
  },
  {
   "cell_type": "code",
   "execution_count": null,
   "metadata": {},
   "outputs": [],
   "source": [
    "non_normal = ['displacement', 'horsepower', 'weight']\n",
    "for feat in non_normal:\n",
    "    data[feat] = data[feat].map(lambda x: np.log(x))\n",
    "pd.plotting.scatter_matrix(data[x_cols], figsize=(10,12));"
   ]
  },
  {
   "cell_type": "code",
   "execution_count": null,
   "metadata": {},
   "outputs": [],
   "source": [
    "x_log = np.log(house_filt)\n",
    "x_log"
   ]
  },
  {
   "cell_type": "code",
   "execution_count": null,
   "metadata": {},
   "outputs": [],
   "source": [
    "#checking for any more outliers\n",
    "\n",
    "sns.set_style('whitegrid')\n",
    "fig, ax = plt.subplots(figsize=(15,10))\n",
    "sns.boxplot(data = house_filt, ax=ax)\n",
    "plt.title('Housing Dataframe boxplot')\n",
    "plt.show();"
   ]
  }
 ],
 "metadata": {
  "kernelspec": {
   "display_name": "Python (learn-env)",
   "language": "python",
   "name": "learn-env"
  },
  "language_info": {
   "codemirror_mode": {
    "name": "ipython",
    "version": 3
   },
   "file_extension": ".py",
   "mimetype": "text/x-python",
   "name": "python",
   "nbconvert_exporter": "python",
   "pygments_lexer": "ipython3",
   "version": "3.8.5"
  }
 },
 "nbformat": 4,
 "nbformat_minor": 4
}
